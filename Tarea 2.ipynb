{
 "cells": [
  {
   "cell_type": "markdown",
   "metadata": {},
   "source": [
    "# Tarea 2 - Procesamiento distribuido y redes neuronales profundas\n",
    "**Integrantes:** \n",
    "\n",
    "Camila Goméz Nazal -\n",
    "Ignacio Zurita Tapia"
   ]
  },
  {
   "cell_type": "code",
   "execution_count": null,
   "metadata": {},
   "outputs": [],
   "source": [
    "import torch\n",
    "from torchvision.datasets import DatasetFolder\n",
    "from torchvision.transforms import Compose, RandomApply, RandomHorizontalFlip, Resize, RandomRotation, Lambda\n",
    "from torch.utils.data import DataLoader\n",
    "from IPython.display import HTML\n",
    "from torchvision import get_image_backend\n",
    "seed = 81818 \n",
    "torch.random.manual_seed(seed)"
   ]
  },
  {
   "cell_type": "markdown",
   "metadata": {},
   "source": [
    "## Carga y transformación de datos\n"
   ]
  },
  {
   "cell_type": "markdown",
   "metadata": {},
   "source": [
    "#### 1. Dataset Folder"
   ]
  },
  {
   "cell_type": "code",
   "execution_count": 3,
   "metadata": {},
   "outputs": [],
   "source": [
    "def loader(path):\n",
    "    if get_image_backend() == 'accimage':\n",
    "        return accimage_loader(path)\n",
    "    else:\n",
    "        return pil_loader(path)"
   ]
  },
  {
   "cell_type": "code",
   "execution_count": 4,
   "metadata": {},
   "outputs": [],
   "source": [
    "scale = Lambda(lambda x: torch.div(x, torch.max(x)))\n",
    "brightness = Lambda(lambda x: torch.mult(x, torch.FloatTensor(x.shape[0], x.shape[1], x.shape[2]).uniform_(1.2, 1.5)))"
   ]
  },
  {
   "cell_type": "code",
   "execution_count": 30,
   "metadata": {},
   "outputs": [],
   "source": [
    "root = 'ChestXRay2017/chest_xray'\n",
    "extensions = ('.jpeg')\n",
    "transform = Compose([Resize([224,224]),\n",
    "                     scale,\n",
    "                     RandomHorizontalFlip(0.5),\n",
    "                     RandomRotation([-20,20]),\n",
    "                     brightness])\n",
    "\n",
    "train = DatasetFolder(root + '/train', loader, extensions, transform)\n",
    "test = DatasetFolder(root + '/test', loader, extensions, transform)"
   ]
  },
  {
   "cell_type": "markdown",
   "metadata": {},
   "source": [
    "#### 2. Cantidad de muestras en cada clase en train y test:\n",
    "\n"
   ]
  },
  {
   "cell_type": "code",
   "execution_count": 29,
   "metadata": {},
   "outputs": [
    {
     "data": {
      "text/html": [
       "<style type=\"text/css\">\n",
       ".tg  {border-collapse:collapse;border-spacing:0;}\n",
       ".tg td{border-color:black;border-style:solid;border-width:1px;font-family:Arial, sans-serif;font-size:14px;\n",
       "  overflow:hidden;padding:10px 5px;word-break:normal;}\n",
       ".tg th{border-color:black;border-style:solid;border-width:1px;font-family:Arial, sans-serif;font-size:14px;\n",
       "  font-weight:normal;overflow:hidden;padding:10px 5px;word-break:normal;}\n",
       ".tg .tg-c3ow{border-color:inherit;text-align:center;vertical-align:top}\n",
       "</style>\n",
       "<table class=\"tg\">\n",
       "<thead>\n",
       "  <tr>\n",
       "    <th class=\"tg-c3ow\"></th>\n",
       "    <th class=\"tg-c3ow\">Normal</th>\n",
       "    <th class=\"tg-c3ow\">Neumonía</th>\n",
       "  </tr>\n",
       "</thead>\n",
       "<tbody>\n",
       "  <tr>\n",
       "    <td class=\"tg-c3ow\">Train</td>\n",
       "    <td class=\"tg-c3ow\">1349</td>\n",
       "    <td class=\"tg-c3ow\">3884</td>\n",
       "  </tr>\n",
       "  <tr>\n",
       "    <td class=\"tg-c3ow\">Test</td>\n",
       "    <td class=\"tg-c3ow\">234</td>\n",
       "    <td class=\"tg-c3ow\">390</td>\n",
       "  </tr>\n",
       "</tbody>\n",
       "</table>"
      ],
      "text/plain": [
       "<IPython.core.display.HTML object>"
      ]
     },
     "execution_count": 29,
     "metadata": {},
     "output_type": "execute_result"
    }
   ],
   "source": [
    "HTML(filename='distribucion_datos.html')"
   ]
  },
  {
   "cell_type": "markdown",
   "metadata": {},
   "source": [
    "#### 3."
   ]
  },
  {
   "cell_type": "markdown",
   "metadata": {},
   "source": [
    "#### 4."
   ]
  },
  {
   "cell_type": "markdown",
   "metadata": {},
   "source": [
    "## Redes neuronales profundas"
   ]
  },
  {
   "cell_type": "markdown",
   "metadata": {},
   "source": [
    "## Interpretabilidad"
   ]
  }
 ],
 "metadata": {
  "kernelspec": {
   "display_name": "Python 3",
   "language": "python",
   "name": "python3"
  },
  "language_info": {
   "codemirror_mode": {
    "name": "ipython",
    "version": 3
   },
   "file_extension": ".py",
   "mimetype": "text/x-python",
   "name": "python",
   "nbconvert_exporter": "python",
   "pygments_lexer": "ipython3",
   "version": "3.8.2"
  }
 },
 "nbformat": 4,
 "nbformat_minor": 4
}
